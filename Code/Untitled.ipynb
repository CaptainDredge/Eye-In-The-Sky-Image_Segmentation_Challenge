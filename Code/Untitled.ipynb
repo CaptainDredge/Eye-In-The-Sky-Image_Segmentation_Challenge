{
 "cells": [
  {
   "cell_type": "code",
   "execution_count": 3,
   "metadata": {},
   "outputs": [],
   "source": [
    "from torch.autograd import Variable\n",
    "from torch.autograd import Variable\n",
    "import torchvision.models as models\n",
    "from graphviz import Digraph\n",
    "import re\n",
    "\n",
    "def make_dot(var):\n",
    "    node_attr = dict(style='filled',\n",
    "                     shape='box',\n",
    "                     align='left',\n",
    "                     fontsize='12',\n",
    "                     ranksep='0.1',\n",
    "                     height='0.2')\n",
    "    dot = Digraph(node_attr=node_attr, graph_attr=dict(size=\"12,12\"))\n",
    "    seen = set()\n",
    "\n",
    "    def add_nodes(var):\n",
    "        if var not in seen:\n",
    "            if isinstance(var, Variable):\n",
    "                value = '('+(', ').join(['%d'% v for v in var.size()])+')'\n",
    "                dot.node(str(id(var)), str(value), fillcolor='lightblue')\n",
    "            else:\n",
    "                dot.node(str(id(var)), str(type(var).__name__))\n",
    "            seen.add(var)\n",
    "            if hasattr(var, 'previous_functions'):\n",
    "                for u in var.previous_functions:\n",
    "                    dot.edge(str(id(u[0])), str(id(var)))\n",
    "                    add_nodes(u[0])\n",
    "    add_nodes(var.creator)\n",
    "    return dot"
   ]
  },
  {
   "cell_type": "code",
   "execution_count": 6,
   "metadata": {},
   "outputs": [],
   "source": [
    "inputs = torch.randn(1,4,256,256)"
   ]
  },
  {
   "cell_type": "code",
   "execution_count": 7,
   "metadata": {},
   "outputs": [],
   "source": [
    "from Models import Res"
   ]
  },
  {
   "cell_type": "code",
   "execution_count": 9,
   "metadata": {},
   "outputs": [],
   "source": [
    "model = Res(4, 9)"
   ]
  },
  {
   "cell_type": "code",
   "execution_count": 11,
   "metadata": {},
   "outputs": [],
   "source": [
    "y = model(Variable(inputs))"
   ]
  },
  {
   "cell_type": "code",
   "execution_count": 12,
   "metadata": {},
   "outputs": [
    {
     "ename": "AttributeError",
     "evalue": "'Tensor' object has no attribute 'creator'",
     "output_type": "error",
     "traceback": [
      "\u001b[0;31m---------------------------------------------------------------------------\u001b[0m",
      "\u001b[0;31mAttributeError\u001b[0m                            Traceback (most recent call last)",
      "\u001b[0;32m<ipython-input-12-71e4c8f34f19>\u001b[0m in \u001b[0;36m<module>\u001b[0;34m\u001b[0m\n\u001b[0;32m----> 1\u001b[0;31m \u001b[0mg\u001b[0m \u001b[0;34m=\u001b[0m \u001b[0mmake_dot\u001b[0m\u001b[0;34m(\u001b[0m\u001b[0my\u001b[0m\u001b[0;34m)\u001b[0m\u001b[0;34m\u001b[0m\u001b[0m\n\u001b[0m",
      "\u001b[0;32m<ipython-input-3-75a146c6c4ed>\u001b[0m in \u001b[0;36mmake_dot\u001b[0;34m(var)\u001b[0m\n\u001b[1;32m     27\u001b[0m                     \u001b[0mdot\u001b[0m\u001b[0;34m.\u001b[0m\u001b[0medge\u001b[0m\u001b[0;34m(\u001b[0m\u001b[0mstr\u001b[0m\u001b[0;34m(\u001b[0m\u001b[0mid\u001b[0m\u001b[0;34m(\u001b[0m\u001b[0mu\u001b[0m\u001b[0;34m[\u001b[0m\u001b[0;36m0\u001b[0m\u001b[0;34m]\u001b[0m\u001b[0;34m)\u001b[0m\u001b[0;34m)\u001b[0m\u001b[0;34m,\u001b[0m \u001b[0mstr\u001b[0m\u001b[0;34m(\u001b[0m\u001b[0mid\u001b[0m\u001b[0;34m(\u001b[0m\u001b[0mvar\u001b[0m\u001b[0;34m)\u001b[0m\u001b[0;34m)\u001b[0m\u001b[0;34m)\u001b[0m\u001b[0;34m\u001b[0m\u001b[0m\n\u001b[1;32m     28\u001b[0m                     \u001b[0madd_nodes\u001b[0m\u001b[0;34m(\u001b[0m\u001b[0mu\u001b[0m\u001b[0;34m[\u001b[0m\u001b[0;36m0\u001b[0m\u001b[0;34m]\u001b[0m\u001b[0;34m)\u001b[0m\u001b[0;34m\u001b[0m\u001b[0m\n\u001b[0;32m---> 29\u001b[0;31m     \u001b[0madd_nodes\u001b[0m\u001b[0;34m(\u001b[0m\u001b[0mvar\u001b[0m\u001b[0;34m.\u001b[0m\u001b[0mcreator\u001b[0m\u001b[0;34m)\u001b[0m\u001b[0;34m\u001b[0m\u001b[0m\n\u001b[0m\u001b[1;32m     30\u001b[0m     \u001b[0;32mreturn\u001b[0m \u001b[0mdot\u001b[0m\u001b[0;34m\u001b[0m\u001b[0m\n",
      "\u001b[0;31mAttributeError\u001b[0m: 'Tensor' object has no attribute 'creator'"
     ]
    }
   ],
   "source": [
    "g = make_dot(y)"
   ]
  },
  {
   "cell_type": "code",
   "execution_count": 13,
   "metadata": {},
   "outputs": [],
   "source": [
    "from torchsummary import summary"
   ]
  },
  {
   "cell_type": "code",
   "execution_count": 15,
   "metadata": {},
   "outputs": [
    {
     "name": "stdout",
     "output_type": "stream",
     "text": [
      "----------------------------------------------------------------\n",
      "        Layer (type)               Output Shape         Param #\n",
      "================================================================\n",
      "            Conv2d-1         [-1, 64, 256, 256]           2,368\n",
      "       BatchNorm2d-2         [-1, 64, 256, 256]             128\n",
      "              ReLU-3         [-1, 64, 256, 256]               0\n",
      "            Conv2d-4         [-1, 64, 256, 256]          36,928\n",
      "       BatchNorm2d-5         [-1, 64, 256, 256]             128\n",
      "              ReLU-6         [-1, 64, 256, 256]               0\n",
      "             Dconv-7         [-1, 64, 256, 256]               0\n",
      "            InConv-8         [-1, 64, 256, 256]               0\n",
      "         MaxPool2d-9         [-1, 64, 128, 128]               0\n",
      "           Conv2d-10        [-1, 128, 128, 128]          73,728\n",
      "      BatchNorm2d-11        [-1, 128, 128, 128]             256\n",
      "             ReLU-12        [-1, 128, 128, 128]               0\n",
      "           Conv2d-13        [-1, 128, 128, 128]         147,456\n",
      "      BatchNorm2d-14        [-1, 128, 128, 128]             256\n",
      "           Conv2d-15        [-1, 128, 128, 128]           8,192\n",
      "      BatchNorm2d-16        [-1, 128, 128, 128]             256\n",
      "             ReLU-17        [-1, 128, 128, 128]               0\n",
      "       BasicBlock-18        [-1, 128, 128, 128]               0\n",
      "         DownConv-19        [-1, 128, 128, 128]               0\n",
      "        MaxPool2d-20          [-1, 128, 64, 64]               0\n",
      "           Conv2d-21          [-1, 256, 64, 64]         294,912\n",
      "      BatchNorm2d-22          [-1, 256, 64, 64]             512\n",
      "             ReLU-23          [-1, 256, 64, 64]               0\n",
      "           Conv2d-24          [-1, 256, 64, 64]         589,824\n",
      "      BatchNorm2d-25          [-1, 256, 64, 64]             512\n",
      "           Conv2d-26          [-1, 256, 64, 64]          32,768\n",
      "      BatchNorm2d-27          [-1, 256, 64, 64]             512\n",
      "             ReLU-28          [-1, 256, 64, 64]               0\n",
      "       BasicBlock-29          [-1, 256, 64, 64]               0\n",
      "         DownConv-30          [-1, 256, 64, 64]               0\n",
      "        MaxPool2d-31          [-1, 256, 32, 32]               0\n",
      "           Conv2d-32          [-1, 512, 32, 32]       1,179,648\n",
      "      BatchNorm2d-33          [-1, 512, 32, 32]           1,024\n",
      "             ReLU-34          [-1, 512, 32, 32]               0\n",
      "           Conv2d-35          [-1, 512, 32, 32]       2,359,296\n",
      "      BatchNorm2d-36          [-1, 512, 32, 32]           1,024\n",
      "           Conv2d-37          [-1, 512, 32, 32]         131,072\n",
      "      BatchNorm2d-38          [-1, 512, 32, 32]           1,024\n",
      "             ReLU-39          [-1, 512, 32, 32]               0\n",
      "       BasicBlock-40          [-1, 512, 32, 32]               0\n",
      "         DownConv-41          [-1, 512, 32, 32]               0\n",
      "  ConvTranspose2d-42          [-1, 256, 64, 64]         524,544\n",
      "           Conv2d-43          [-1, 256, 64, 64]       1,179,904\n",
      "      BatchNorm2d-44          [-1, 256, 64, 64]             512\n",
      "             ReLU-45          [-1, 256, 64, 64]               0\n",
      "           Conv2d-46          [-1, 256, 64, 64]         590,080\n",
      "      BatchNorm2d-47          [-1, 256, 64, 64]             512\n",
      "             ReLU-48          [-1, 256, 64, 64]               0\n",
      "            Dconv-49          [-1, 256, 64, 64]               0\n",
      "           UpConv-50          [-1, 256, 64, 64]               0\n",
      "  ConvTranspose2d-51        [-1, 128, 128, 128]         131,200\n",
      "           Conv2d-52        [-1, 128, 128, 128]         295,040\n",
      "      BatchNorm2d-53        [-1, 128, 128, 128]             256\n",
      "             ReLU-54        [-1, 128, 128, 128]               0\n",
      "           Conv2d-55        [-1, 128, 128, 128]         147,584\n",
      "      BatchNorm2d-56        [-1, 128, 128, 128]             256\n",
      "             ReLU-57        [-1, 128, 128, 128]               0\n",
      "            Dconv-58        [-1, 128, 128, 128]               0\n",
      "           UpConv-59        [-1, 128, 128, 128]               0\n",
      "  ConvTranspose2d-60         [-1, 64, 256, 256]          32,832\n",
      "           Conv2d-61         [-1, 64, 256, 256]          73,792\n",
      "      BatchNorm2d-62         [-1, 64, 256, 256]             128\n",
      "             ReLU-63         [-1, 64, 256, 256]               0\n",
      "           Conv2d-64         [-1, 64, 256, 256]          36,928\n",
      "      BatchNorm2d-65         [-1, 64, 256, 256]             128\n",
      "             ReLU-66         [-1, 64, 256, 256]               0\n",
      "            Dconv-67         [-1, 64, 256, 256]               0\n",
      "           UpConv-68         [-1, 64, 256, 256]               0\n",
      "           Conv2d-69          [-1, 9, 256, 256]             585\n",
      "          OutConv-70          [-1, 9, 256, 256]               0\n",
      "================================================================\n",
      "Total params: 7,876,105\n",
      "Trainable params: 7,876,105\n",
      "Non-trainable params: 0\n",
      "----------------------------------------------------------------\n",
      "Input size (MB): 1.00\n",
      "Forward/backward pass size (MB): 1063.00\n",
      "Params size (MB): 30.04\n",
      "Estimated Total Size (MB): 1094.04\n",
      "----------------------------------------------------------------\n"
     ]
    }
   ],
   "source": [
    "summary(model, (4,256,256))"
   ]
  },
  {
   "cell_type": "code",
   "execution_count": null,
   "metadata": {},
   "outputs": [],
   "source": []
  }
 ],
 "metadata": {
  "kernelspec": {
   "display_name": "Python 3",
   "language": "python",
   "name": "python3"
  },
  "language_info": {
   "codemirror_mode": {
    "name": "ipython",
    "version": 3
   },
   "file_extension": ".py",
   "mimetype": "text/x-python",
   "name": "python",
   "nbconvert_exporter": "python",
   "pygments_lexer": "ipython3",
   "version": "3.6.6"
  }
 },
 "nbformat": 4,
 "nbformat_minor": 2
}
